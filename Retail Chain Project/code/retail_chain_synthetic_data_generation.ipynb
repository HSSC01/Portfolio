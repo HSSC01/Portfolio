{
 "cells": [
  {
   "cell_type": "code",
   "execution_count": 11,
   "metadata": {},
   "outputs": [],
   "source": [
    "import pandas as pd\n",
    "import random\n",
    "import uuid\n",
    "from datetime import datetime, timedelta\n",
    "from tqdm import tqdm\n",
    "import os"
   ]
  },
  {
   "cell_type": "code",
   "execution_count": 12,
   "metadata": {},
   "outputs": [],
   "source": [
    "data_folder = os.path.join(os.getcwd(), os.pardir, 'data')\n",
    "db_path = os.path.join(data_folder, 'retail_chain.db')\n",
    "pos_path = os.path.join(data_folder, 'point_of_sales_data.csv')\n",
    "customer_path = os.path.join(data_folder, 'customer_data.csv')\n",
    "product_path = os.path.join(data_folder, 'product_data.csv')"
   ]
  },
  {
   "cell_type": "code",
   "execution_count": 2,
   "metadata": {},
   "outputs": [],
   "source": [
    "# Configuration\n",
    "# Store and Product Details\n",
    "# Probability distribution for realistic trends\n",
    "# Random inconsistencies parameters\n",
    "# Generate Data\n",
    "    # Point of Sales Data\n",
    "        # Add date format inconsistencies\n",
    "        # Apply category distribution\n",
    "        # Apply payment distribution\n",
    "        # Add duplicates\n",
    "        # Create DataFrame\n",
    "    # Customer Data\n",
    "        # Apply age distribution\n",
    "# Save to CSV"
   ]
  },
  {
   "cell_type": "code",
   "execution_count": 3,
   "metadata": {},
   "outputs": [],
   "source": [
    "# Configuration\n",
    "num_rows = random.randint(1_400_000, 1_600_000)\n",
    "start_date = datetime(2024, 1, 1)\n",
    "end_date = datetime(2024, 12, 31)"
   ]
  },
  {
   "cell_type": "code",
   "execution_count": 4,
   "metadata": {},
   "outputs": [],
   "source": [
    "# Store and Product Details\n",
    "stores = [f'Store_{i}' for i in range(1, 51)] + ['Online']\n",
    "categories = ['Groceries','Electronics','Clothing','Home Goods']\n",
    "payment_methods = ['Credit Card','Debit Card','Cash','Digital Wallet']"
   ]
  },
  {
   "cell_type": "code",
   "execution_count": 5,
   "metadata": {},
   "outputs": [],
   "source": [
    "# Probability distribution for realistic trends\n",
    "category_distribution = {'Groceries': 0.5, 'Electronics': 0.2, 'Clothing': 0.15, 'Home Goods': 0.15}\n",
    "payment_distribution = {'Credit Card': 0.4, 'Debit Card': 0.2, 'Cash': 0.3, 'Digital Wallet': 0.1}\n",
    "gender_distribution_u35 = {'M': 0.475, 'F': 0.475, 'Other': 0.05}\n",
    "gender_distribution_o35 = {'M': 0.49, 'F': 0.49, 'Other': 0.01}\n",
    "age_distribution = {}\n",
    "for i in range(16, 75):\n",
    "    if i < 18:\n",
    "        age_distribution[i] = 0.05/(18-16)\n",
    "    elif i < 25:\n",
    "        age_distribution[i] = 0.2/(25-18)\n",
    "    elif i < 35:\n",
    "        age_distribution[i] = 0.25/(35-25)\n",
    "    elif i < 45:\n",
    "        age_distribution[i] = 0.20/(45-35)\n",
    "    elif i < 55:\n",
    "        age_distribution[i] = 0.18/(55-45)\n",
    "    elif i < 65:\n",
    "        age_distribution[i] = 0.08/(65-55)\n",
    "    elif i <= 75:\n",
    "        age_distribution[i] = 0.04/(75-65)\n",
    "\n",
    "months = [1,2,3,4,5,6,7,8,9,10,11,12]\n",
    "random_month_weights = {month: random.random() for month in months}\n",
    "total_month_weight = sum(random_month_weights.values())\n",
    "normalised_month_weights = {month: weight / total_month_weight for month, weight in random_month_weights.items()}\n",
    "random_store_weights = {store: random.random() for store in stores}\n",
    "total_store_weight = sum(random_store_weights.values())\n",
    "normalised_store_weights = {store: weight / total_store_weight for store, weight in random_store_weights.items()}"
   ]
  },
  {
   "cell_type": "code",
   "execution_count": 6,
   "metadata": {},
   "outputs": [],
   "source": [
    "# Random inconsistencies parameters\n",
    "duplicate_ratio = 0.005 # 0.5%\n",
    "missing_ratio = 0.01 # 1%"
   ]
  },
  {
   "cell_type": "code",
   "execution_count": 7,
   "metadata": {},
   "outputs": [
    {
     "name": "stderr",
     "output_type": "stream",
     "text": [
      "Generating Data: 100%|████████████████████████████████| 1500083/1500083 [00:28<00:00, 52413.93row/s]\n"
     ]
    }
   ],
   "source": [
    "# Point of Sales Data\n",
    "pos_data = []\n",
    "product_data = {}\n",
    "for _ in tqdm(range(num_rows), desc=\"Generating Data\", unit=\"row\", ncols=100):\n",
    "    transaction_id = str(uuid.uuid4())\n",
    "    customer_id = f'CUST_{random.randint(1000, 999999)}'\n",
    "    store_id = random.choices(list(normalised_store_weights.keys()), weights=normalised_store_weights.values())[0]\n",
    "    \n",
    "    year = 2024\n",
    "    month = random.choices(list(normalised_month_weights.keys()), weights=normalised_month_weights.values())[0]\n",
    "    day_of_month = random.randint(1, 31) if month in [1,3,5,8,10,12] else random.randint(1,28)\n",
    "    \n",
    "\n",
    "    date = datetime(year, int(month), day_of_month)\n",
    "\n",
    "    # Add date format inconsistencies\n",
    "    if random.random() < 0.02:\n",
    "        date_str = date.strftime('%Y/%m/%d') if random.random() < 0.5 else date.strftime('%d-%m-%Y')\n",
    "    else:\n",
    "        date_str = date.strftime('%Y-%m-%d')\n",
    "\n",
    "    # Apply category distribution\n",
    "    category = random.choices(list(category_distribution.keys()), weights=category_distribution.values())[0]\n",
    "    product_name = f'{category}_Product_{random.randint(1, 200)}'\n",
    "    quantity = random.randint(1, 10)\n",
    "\n",
    "\n",
    "    # Apply payment distribution\n",
    "    payment_method = random.choices(list(payment_distribution.keys()), weights=payment_distribution.values())[0]\n",
    "    discount_applied = random.choice([0,5,10,15,20]) if random.random() < 0.3 else 0\n",
    "\n",
    "    online_order = 1 if store_id == 'Online' else 0\n",
    "\n",
    "    pos_row = [\n",
    "        transaction_id, customer_id, store_id, date_str, category,\n",
    "        product_name, quantity, payment_method, discount_applied, online_order\n",
    "    ]\n",
    "    pos_data.append(pos_row)\n",
    "    if product_name not in product_data:\n",
    "        product_data[product_name] = round(random.uniform(2.0, 100.0), 2)\n",
    "\n",
    "\n",
    "# Add duplicates\n",
    "num_duplicates = int(num_rows * duplicate_ratio)\n",
    "pos_data.extend(random.choices(pos_data, k=num_duplicates))\n",
    "\n",
    "# Create DataFrame\n",
    "pos_columns = [\n",
    "    'transaction_id', 'customer_id', 'store_id', 'date', 'category', \n",
    "    'product_name', 'quantity', 'payment_method', 'discount_applied', 'online_order']\n",
    "\n",
    "pos_df = pd.DataFrame(pos_data, columns=pos_columns)\n",
    "product_df = pd.DataFrame(product_data.items(), columns=['product_name', 'unit_price'])"
   ]
  },
  {
   "cell_type": "code",
   "execution_count": 8,
   "metadata": {},
   "outputs": [],
   "source": [
    "product_df['category'] = product_df['product_name'].apply(lambda x: x.split('_')[0])"
   ]
  },
  {
   "cell_type": "code",
   "execution_count": 9,
   "metadata": {},
   "outputs": [
    {
     "name": "stderr",
     "output_type": "stream",
     "text": [
      "Generating Data: 100%|█████████████████████████████████| 776588/776588 [00:03<00:00, 195519.41row/s]\n"
     ]
    }
   ],
   "source": [
    "# Customer Data\n",
    "customer_data = []\n",
    "unique_customers = pos_df['customer_id'].unique()\n",
    "\n",
    "for customer_id in tqdm(unique_customers, desc=\"Generating Data\", unit=\"row\", ncols=100):\n",
    "    # Apply age distribution\n",
    "    customer_age = random.choices(list(age_distribution.keys()), weights=age_distribution.values())[0] if random.random() > missing_ratio else None\n",
    "    if customer_age != None:\n",
    "        if customer_age < 35 and random.random() > missing_ratio:\n",
    "            customer_gender = random.choices(list(gender_distribution_u35.keys()), weights=gender_distribution_u35.values())[0] \n",
    "        elif customer_age > 35 and random.random() > missing_ratio:\n",
    "            customer_gender = random.choices(list(gender_distribution_o35.keys()), weights=gender_distribution_o35.values())[0]\n",
    "        else:\n",
    "            customer_gender = None\n",
    "    else:\n",
    "        customer_gender = random.choices(['M','F','Other'], weights=[0.4825,0.4825,0.035])[0]\n",
    "    row = [customer_id, customer_age, customer_gender]\n",
    "    customer_data.append(row)\n",
    "\n",
    "cust_columns = ['customer_id', 'age', 'gender']\n",
    "cust_df = pd.DataFrame(customer_data, columns=cust_columns)\n"
   ]
  },
  {
   "cell_type": "code",
   "execution_count": 13,
   "metadata": {},
   "outputs": [],
   "source": [
    "pos_df.to_csv(pos_path, index=False)\n",
    "cust_df.to_csv(customer_path, index=False)\n",
    "product_df.to_csv(product_path, index=False)"
   ]
  },
  {
   "cell_type": "code",
   "execution_count": null,
   "metadata": {},
   "outputs": [],
   "source": []
  }
 ],
 "metadata": {
  "kernelspec": {
   "display_name": "Python 3",
   "language": "python",
   "name": "python3"
  },
  "language_info": {
   "codemirror_mode": {
    "name": "ipython",
    "version": 3
   },
   "file_extension": ".py",
   "mimetype": "text/x-python",
   "name": "python",
   "nbconvert_exporter": "python",
   "pygments_lexer": "ipython3",
   "version": "3.13.0"
  }
 },
 "nbformat": 4,
 "nbformat_minor": 2
}
